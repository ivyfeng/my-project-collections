{
 "cells": [
  {
   "cell_type": "code",
   "execution_count": 524,
   "metadata": {},
   "outputs": [
    {
     "name": "stdout",
     "output_type": "stream",
     "text": [
      "[nltk_data] Downloading package vader_lexicon to\n",
      "[nltk_data]     /Users/pouria/nltk_data...\n",
      "[nltk_data]   Package vader_lexicon is already up-to-date!\n"
     ]
    }
   ],
   "source": [
    "import re\n",
    "import itertools\n",
    "from __future__ import print_function\n",
    "import pandas as pd\n",
    "import datetime as dt\n",
    "import numpy as np\n",
    "\n",
    "import nltk\n",
    "from nltk.corpus import stopwords\n",
    "from nltk.collocations import BigramCollocationFinder\n",
    "from nltk.metrics import BigramAssocMeasures\n",
    "from nltk.tokenize import RegexpTokenizer\n",
    "import string\n",
    "import scipy.sparse as sparse\n",
    "import seaborn as sns\n",
    "import statsmodels.api as sm\n",
    "import statsmodels.formula.api as smf\n",
    "import matplotlib.pyplot as plt\n",
    "from mpl_toolkits.mplot3d import axes3d\n",
    "\n",
    "\n",
    "import spacy\n",
    "import en_core_web_sm\n",
    "from spacy import displacy\n",
    "nlp = spacy.load('en')\n",
    "#nlp = en_core_web_sm.load()\n",
    "from nltk.corpus import stopwords\n",
    "from nltk.collocations import BigramCollocationFinder\n",
    "from nltk.metrics import BigramAssocMeasures\n",
    "\n",
    "nltk.download('vader_lexicon')\n",
    "from nltk.sentiment.vader import SentimentIntensityAnalyzer\n",
    "analyser = SentimentIntensityAnalyzer()"
   ]
  },
  {
   "cell_type": "code",
   "execution_count": 525,
   "metadata": {
    "collapsed": true
   },
   "outputs": [],
   "source": [
    "# to provide serial of numbers\n",
    "def gen(n):\n",
    "    while True:\n",
    "        yield n\n",
    "        n += 1"
   ]
  },
  {
   "cell_type": "code",
   "execution_count": 526,
   "metadata": {},
   "outputs": [
    {
     "name": "stdout",
     "output_type": "stream",
     "text": [
      "<class 'pandas.core.frame.DataFrame'>\n",
      "RangeIndex: 48039 entries, 0 to 48038\n",
      "Data columns (total 3 columns):\n",
      "Unnamed: 0    48039 non-null int64\n",
      "Ratings       30016 non-null object\n",
      "Reviews       30010 non-null object\n",
      "dtypes: int64(1), object(2)\n",
      "memory usage: 1.1+ MB\n"
     ]
    }
   ],
   "source": [
    "df = pd.read_csv('All_Data.txt', encoding='utf-8')\n",
    "df.info()"
   ]
  },
  {
   "cell_type": "code",
   "execution_count": 527,
   "metadata": {},
   "outputs": [],
   "source": [
    "def cleaned_reviews(x):\n",
    "    return(''.join(re.sub('[^a-zA-Z_.]', ' ', x)))"
   ]
  },
  {
   "cell_type": "code",
   "execution_count": 528,
   "metadata": {},
   "outputs": [
    {
     "data": {
      "text/plain": [
       "'Cans sound fine  but the AKG branded audio cable supplied to use the headphones wired was defective. Looks like there s an intermittent in the plug on one end or the other. I used a cable I got from a     pair of headphones to test and verified it was the cable. I was actually about to return the product until I decided to check the cable. Not worth swapping the product to get a replacement  but kind of lame to get a bad    cable when you buy a      pair of cans   UPDATE        The left earcup now only produces static when used with Bluetooth  just sent the phones back for repair. They were used exclusively wirelessly at my desk at work. The  AKG  branded plastic cover on the USB charge cable also came loose  making AKG   for   on cables. As an additional comment  the plastic logo panels on the sides of the headphones are a glossy finish that shows every single fingerprint. Overall  the quality is very poor for headphones in this price range  and I would not recommend them at this price. Might be worth it at            unless of course they die after   months like mine.Update       After   weeks  still waiting on a replacement for the return I made. AKG s outsourced Indian customer support informed me that they are closing my service request  so apparently I paid     for UPS Ground in order to have Harmon Kardon throw away my headphones for me. I would at this point suggest that another manufacturer not under the HK umbrella might be a better use of your money.Final Update       HK Customer Service apparently just closed my case after a month without actually sending a warranty replacement and just stopped responding to my inquiries  Summary  HK doesn t honor their warranty. Worst customer service experience I ve had in    years  no joke.'"
      ]
     },
     "execution_count": 528,
     "metadata": {},
     "output_type": "execute_result"
    }
   ],
   "source": [
    "cleaned_reviews('Cans sound fine  but the AKG branded audio cable supplied to use the headphones wired was defective. Looks like there s an intermittent in the plug on one end or the other. I used a cable I got from a     pair of headphones to test and verified it was the cable. I was actually about to return the product until I decided to check the cable. Not worth swapping the product to get a replacement  but kind of lame to get a bad    cable when you buy a      pair of cans   UPDATE        The left earcup now only produces static when used with Bluetooth  just sent the phones back for repair. They were used exclusively wirelessly at my desk at work. The  AKG  branded plastic cover on the USB charge cable also came loose  making AKG   for   on cables. As an additional comment  the plastic logo panels on the sides of the headphones are a glossy finish that shows every single fingerprint. Overall  the quality is very poor for headphones in this price range  and I would not recommend them at this price. Might be worth it at            unless of course they die after   months like mine.Update       After   weeks  still waiting on a replacement for the return I made. AKG s outsourced Indian customer support informed me that they are closing my service request  so apparently I paid     for UPS Ground in order to have Harmon Kardon throw away my headphones for me. I would at this point suggest that another manufacturer not under the HK umbrella might be a better use of your money.Final Update       HK Customer Service apparently just closed my case after a month without actually sending a warranty replacement and just stopped responding to my inquiries  Summary  HK doesn t honor their warranty. Worst customer service experience I ve had in    years  no joke.')"
   ]
  },
  {
   "cell_type": "code",
   "execution_count": 529,
   "metadata": {
    "collapsed": true
   },
   "outputs": [],
   "source": [
    "\n",
    "def get_bigram_likelihood(statements, freq_filter=3, nbest=200):\n",
    "    \"\"\"\n",
    "    Returns n (likelihood ratio) bi-grams from a group of documents\n",
    "    :param        statements: list of strings\n",
    "    :param output_file: output path for saved file\n",
    "    :param freq_filter: filter for # of appearances in bi-gram\n",
    "    :param       nbest: likelihood ratio for bi-grams\n",
    "    \"\"\"\n",
    "\n",
    "    #words = list()\n",
    "    #tokenize sentence into words\n",
    "    #for statement in statements:\n",
    "        # remove non-words\n",
    "    tokenizer = RegexpTokenizer(r'\\w+')\n",
    "    words = tokenizer.tokenize(statements)\n",
    "\n",
    "    bigram_measures = nltk.collocations.BigramAssocMeasures()\n",
    "    bigram_finder = BigramCollocationFinder.from_words(words)\n",
    "\n",
    "    # only bi-grams that appear n+ times\n",
    "    bigram_finder.apply_freq_filter(freq_filter)\n",
    "\n",
    "    # TODO: use custom stop words\n",
    "    bigram_finder.apply_word_filter(lambda w: len(w) < 3 or w.lower() in nltk.corpus.stopwords.words('english'))\n",
    "\n",
    "    bigram_results = bigram_finder.nbest(bigram_measures.likelihood_ratio, nbest)\n",
    "\n",
    "    return bigram_finder.score_ngrams(bigram_measures.likelihood_ratio)"
   ]
  },
  {
   "cell_type": "code",
   "execution_count": 530,
   "metadata": {
    "collapsed": true
   },
   "outputs": [],
   "source": [
    "df['Reviews'] = df['Reviews'].apply(lambda x : cleaned_reviews(str(x)))"
   ]
  },
  {
   "cell_type": "code",
   "execution_count": 531,
   "metadata": {},
   "outputs": [
    {
     "name": "stdout",
     "output_type": "stream",
     "text": [
      "48039\n"
     ]
    }
   ],
   "source": [
    "review_list = df['Reviews'].tolist()\n",
    "print(len(review_list))\n",
    "raw_text = ''.join(review_list)"
   ]
  },
  {
   "cell_type": "code",
   "execution_count": 532,
   "metadata": {},
   "outputs": [],
   "source": [
    "bigrams = get_bigram_likelihood(raw_text.lower(), freq_filter=100, nbest=200 )\n",
    "bigram_joint = [' '.join(list(s[0])) for s in bigrams]"
   ]
  },
  {
   "cell_type": "code",
   "execution_count": 533,
   "metadata": {},
   "outputs": [
    {
     "data": {
      "text/plain": [
       "['sound quality',\n",
       " 'battery life',\n",
       " 'year old',\n",
       " 'customer service',\n",
       " 'noise cancelling',\n",
       " 'stopped working',\n",
       " 'ear buds',\n",
       " 'great sound',\n",
       " 'highly recommend',\n",
       " 'good sound',\n",
       " 'noise canceling',\n",
       " 'outside noise',\n",
       " 'blue tooth',\n",
       " 'would recommend',\n",
       " 'noise cancellation',\n",
       " 'build quality',\n",
       " 'long time',\n",
       " 'work great',\n",
       " 'much better',\n",
       " 'pretty good',\n",
       " 'head phones',\n",
       " 'daughter loves',\n",
       " 'price point',\n",
       " 'great product',\n",
       " 'high end',\n",
       " 'one side',\n",
       " 'another pair',\n",
       " 'works great',\n",
       " 'phone calls',\n",
       " 'volume control',\n",
       " 'son loves',\n",
       " 'second pair',\n",
       " 'light weight',\n",
       " 'foam tips',\n",
       " 'noise isolation',\n",
       " 'really good',\n",
       " 'ear pieces',\n",
       " 'bluetooth headphones',\n",
       " 'battery lasts',\n",
       " 'works well',\n",
       " 'good quality',\n",
       " 'sound isolation',\n",
       " 'low end',\n",
       " 'high quality',\n",
       " 'definitely recommend',\n",
       " 'ear piece',\n",
       " 'highly recommended',\n",
       " 'make sure',\n",
       " 'ear canal',\n",
       " 'crystal clear',\n",
       " 'long periods',\n",
       " 'well made',\n",
       " 'christmas gift',\n",
       " 'background noise',\n",
       " 'really like',\n",
       " 'carrying case',\n",
       " 'sound great',\n",
       " 'every day',\n",
       " 'ear monitors',\n",
       " 'price range',\n",
       " 'old son',\n",
       " 'would definitely',\n",
       " 'little bit',\n",
       " 'work well',\n",
       " 'bass response',\n",
       " 'new pair',\n",
       " 'mid range',\n",
       " 'wireless headphones',\n",
       " 'audio quality',\n",
       " 'would buy',\n",
       " 'old daughter',\n",
       " 'feel like',\n",
       " 'ear bud',\n",
       " 'even though',\n",
       " 'great value',\n",
       " 'first time',\n",
       " 'ear pads',\n",
       " 'ever owned',\n",
       " 'ear headphones',\n",
       " 'get used',\n",
       " 'ear cups',\n",
       " 'every time',\n",
       " 'great price',\n",
       " 'bluetooth connection',\n",
       " 'hear anything',\n",
       " 'right side',\n",
       " 'well worth',\n",
       " 'long battery',\n",
       " 'reasonable price',\n",
       " 'super comfortable',\n",
       " 'great headphones',\n",
       " 'worth every',\n",
       " 'getting used',\n",
       " 'first pair',\n",
       " 'really nice',\n",
       " 'sounds great',\n",
       " 'absolutely love',\n",
       " 'left ear',\n",
       " 'two months',\n",
       " 'buy another',\n",
       " 'worked great',\n",
       " 'sound isolating',\n",
       " 'good value',\n",
       " 'ear phones',\n",
       " 'even better',\n",
       " 'still hear',\n",
       " 'fit well',\n",
       " 'right ear',\n",
       " 'pretty much',\n",
       " 'would say',\n",
       " 'way better',\n",
       " 'good product',\n",
       " 'clear sound',\n",
       " 'excellent sound',\n",
       " 'good job',\n",
       " 'best headphones',\n",
       " 'really well',\n",
       " 'great job',\n",
       " 'comfortable fit',\n",
       " 'great quality',\n",
       " 'decent sound',\n",
       " 'good enough',\n",
       " 'amazing sound',\n",
       " 'great buy',\n",
       " 'nice headphones',\n",
       " 'look great',\n",
       " 'one ear',\n",
       " 'would like',\n",
       " 'new headphones',\n",
       " 'nice sound',\n",
       " 'good bass',\n",
       " 'sound amazing',\n",
       " 'better sound',\n",
       " 'sound good',\n",
       " 'good price',\n",
       " 'headphones work',\n",
       " 'great set',\n",
       " 'good fit',\n",
       " 'quality sound',\n",
       " 'shure headphones',\n",
       " 'really great',\n",
       " 'sound better',\n",
       " 'good headphones',\n",
       " 'price great',\n",
       " 'sound like',\n",
       " 'comfortable great',\n",
       " 'quality headphones',\n",
       " 'quality great',\n",
       " 'headphones great',\n",
       " 'headphones sound',\n",
       " 'great great']"
      ]
     },
     "execution_count": 533,
     "metadata": {},
     "output_type": "execute_result"
    }
   ],
   "source": [
    "bigram_joint"
   ]
  },
  {
   "cell_type": "code",
   "execution_count": 534,
   "metadata": {
    "collapsed": true
   },
   "outputs": [],
   "source": [
    "def check_collocation_type(doc, collocation):\n",
    "    index = []\n",
    "    length =len(doc)\n",
    "    for i in range(length-1):\n",
    "        if collocation.split(' ')[0] in [doc[i].text, doc[i].lemma_]:\n",
    "            if collocation.split(' ')[1] in [doc[i+1].text, doc[i+1].lemma_]:\n",
    "                index.append(i)\n",
    "    if len(index)> 0:\n",
    "        return [(doc[index[0]].text, doc[index[0]+1].text),(doc[index[0]].pos_, doc[index[0]+1].pos_)]\n",
    "    else:\n",
    "        return False\n",
    "\n",
    "def select_sentence(review, collocation):\n",
    "    sentence_list = review.split('.')\n",
    "    selected_sentences = [sentence for sentence in sentence_list if collocation in sentence]\n",
    "    \n",
    "    return ' '.join(selected_sentences)\n",
    "    \n",
    "def gen(n):\n",
    "    while True:\n",
    "        yield n\n",
    "        n += 1\n",
    "        "
   ]
  },
  {
   "cell_type": "code",
   "execution_count": 535,
   "metadata": {},
   "outputs": [],
   "source": [
    "selected_collocations_with_type = []\n",
    "for collocation in bigram_joint:\n",
    "\n",
    "    selected_data = [select_sentence(review.lower(), collocation) for review in review_list if collocation in review]\n",
    "\n",
    "    \n",
    "    g = gen(0)\n",
    "    while True:\n",
    "        index = next(g)\n",
    "        if index >= len(selected_data):\n",
    "            break\n",
    "        review = selected_data[index]\n",
    "        doc= nlp(review)\n",
    "        check = check_collocation_type(doc, collocation)\n",
    "        if check != False:\n",
    "            if  'DET' in check[1]:\n",
    "                break\n",
    "            if  'NUM' in check[1]:\n",
    "                break\n",
    "            if check[1][1] == 'ADJ':\n",
    "                break\n",
    "            if check[1][0] == 'ADJ' and check[1][1] == 'ADV':\n",
    "                break\n",
    "\n",
    "            if check[1][0] == 'ADV' and check[1][1] == 'ADV':\n",
    "                break\n",
    "            if check[1][1] == 'ADP':\n",
    "                break\n",
    "            if check[1][0] == 'ADV' and check[1][1] == 'VERB':\n",
    "                break\n",
    "            if check[1][0] == 'ADJ' and check[1][1] == 'VERB':\n",
    "                break\n",
    "            if check[1][0] == 'VERB' and check[1][1] == 'ADV':\n",
    "                break\n",
    "            if check[1][0] == 'VERB' and check[1][1] == 'NOUN':\n",
    "                break\n",
    "            if check[1][0] == 'VERB' and check[1][1] == 'VERB':\n",
    "                break\n",
    "            if check[0][1] == 'headphones':\n",
    "                break\n",
    "            if check[0][1] == 'product':\n",
    "                break\n",
    "            if check[0][0] in ['good','great','amazing','old','first','nice','better','headphones',\n",
    "                               'long', 'little', 'high', 'low', 'mid','build','price','comfortable',\n",
    "                              'price','light','second','best','new','reasonable']:\n",
    "                break\n",
    "            if check[0][1] in ['loves','phone','time','phones','calls','lasts']:\n",
    "                break                      \n",
    "\n",
    "            selected_collocations_with_type.append(check)\n",
    "\n",
    "            full_data_doc = [(token, token.ent_type_, token.pos_, token.lemma_) for token in doc]\n",
    "            break\n",
    "        else:   \n",
    "            continue\n",
    "\n"
   ]
  },
  {
   "cell_type": "code",
   "execution_count": 536,
   "metadata": {},
   "outputs": [
    {
     "name": "stdout",
     "output_type": "stream",
     "text": [
      "('ADJ', 'NOUN')  : \n",
      " [('sound', 'quality'), ('outside', 'noise'), ('blue', 'tooth'), ('sound', 'isolation'), ('bluetooth', 'connection'), ('right', 'side'), ('left', 'ear'), ('right', 'ear')]\n",
      "\n",
      "\n",
      "('NOUN', 'NOUN')  : \n",
      " [('battery', 'life'), ('customer', 'service'), ('ear', 'buds'), ('noise', 'cancellation'), ('volume', 'control'), ('foam', 'tips'), ('noise', 'isolation'), ('ear', 'pieces'), ('ear', 'pieces'), ('ear', 'canals'), ('background', 'noise'), ('ear', 'monitors'), ('bass', 'response'), ('audio', 'quality'), ('ear', 'bud'), ('ear', 'pads'), ('ear', 'cups'), ('quality', 'sound')]\n",
      "\n",
      "\n",
      "('NOUN', 'VERB')  : \n",
      " [('noise', 'cancelling'), ('noise', 'canceling')]\n",
      "\n",
      "\n"
     ]
    }
   ],
   "source": [
    "collocation_type_dict = {}\n",
    "for collocation in selected_collocations_with_type:\n",
    "    if collocation[1] not in collocation_type_dict:\n",
    "        collocation_type_dict.update({collocation[1]:[]})\n",
    "    \n",
    "    collocation_type_dict[collocation[1]].append(collocation[0])\n",
    "    \n",
    "for c in collocation_type_dict:\n",
    "    print(c,\" : \\n\", collocation_type_dict[c])\n",
    "    print('\\n')\n",
    "\n"
   ]
  },
  {
   "cell_type": "code",
   "execution_count": 537,
   "metadata": {},
   "outputs": [
    {
     "name": "stdout",
     "output_type": "stream",
     "text": [
      "(('sound', 'quality'), 25349.506845540713)\n",
      "(('battery', 'life'), 12070.046029711662)\n",
      "(('customer', 'service'), 6396.363791972079)\n",
      "(('noise', 'cancelling'), 6052.1808782421085)\n",
      "(('ear', 'buds'), 5178.837952925667)\n",
      "(('noise', 'canceling'), 3138.8353480244696)\n",
      "(('outside', 'noise'), 3126.6574080513683)\n",
      "(('blue', 'tooth'), 3093.42865628934)\n",
      "(('noise', 'cancellation'), 2944.59629733605)\n",
      "(('volume', 'control'), 1992.2604389637002)\n",
      "(('foam', 'tips'), 1891.011197207422)\n",
      "(('noise', 'isolation'), 1834.0186312836743)\n",
      "(('ear', 'pieces'), 1803.0018108719876)\n",
      "(('sound', 'isolation'), 1717.88528885396)\n",
      "(('background', 'noise'), 1468.3105583338104)\n",
      "(('ear', 'monitors'), 1420.165927197242)\n",
      "(('bass', 'response'), 1321.8714596837578)\n",
      "(('audio', 'quality'), 1216.9124272507906)\n",
      "(('ear', 'bud'), 1167.8146847612247)\n",
      "(('ear', 'pads'), 1085.4997681270524)\n",
      "(('ear', 'cups'), 965.5708780775118)\n",
      "(('bluetooth', 'connection'), 908.358201374233)\n",
      "(('right', 'side'), 904.0822042541342)\n",
      "(('left', 'ear'), 781.7362626917758)\n",
      "(('right', 'ear'), 582.2122586027191)\n",
      "(('quality', 'sound'), 169.4601340986057)\n"
     ]
    }
   ],
   "source": [
    "selected_collocations = [x[0] for x in selected_collocations_with_type]\n",
    "bigrams_updated = [x for x in bigrams if x[0] in selected_collocations]\n",
    "for b in bigrams_updated:\n",
    "    print(b)\n",
    "\n"
   ]
  },
  {
   "cell_type": "code",
   "execution_count": 538,
   "metadata": {
    "collapsed": true
   },
   "outputs": [],
   "source": [
    "\"\"\"\n",
    "Continuing Preprocessing\n",
    "\n",
    "\"\"\"\n",
    "\"\"\"\n",
    "Here we replace some of the synonym technical words with the most frequent one\n",
    "\"\"\"\n",
    "def resolve_heterogeneity(review_list, listOfWords):\n",
    "    frequency_dict = {w:raw_text.count(w) for w in listOfWords}\n",
    "    mostFrequency = max(frequency_dict.values())\n",
    "    selectedWord = [w for w in frequency_dict.keys() if frequency_dict[w]== mostFrequency][0]\n",
    "    \n",
    "    for w in listOfWords:\n",
    "        for i in range(len(review_list)):\n",
    "            if w in review_list[i]:\n",
    "                review_list[i] = review_list[i].replace(w, selectedWord)\n",
    "                \n",
    "def forced_resolve_heterogeneity(review_list, listOfWords, selectedWord):\n",
    "    for w in listOfWords:\n",
    "        for i in range(len(review_list)):\n",
    "            if w in review_list[i]:\n",
    "                review_list[i] = review_list[i].replace(w, selectedWord)"
   ]
  },
  {
   "cell_type": "code",
   "execution_count": 539,
   "metadata": {},
   "outputs": [
    {
     "name": "stdout",
     "output_type": "stream",
     "text": [
      "canceling :  316\n",
      "cancelling :  540\n",
      "cancelation :  22\n",
      "cancellation :  273\n",
      "canceling :  0\n",
      "cancelling :  1151\n",
      "cancelation :  0\n",
      "cancellation :  0\n"
     ]
    }
   ],
   "source": [
    "#Example Noise Canceling, Noise Cancelling, Noise Cancellation, Sound Canceling, Sound Cancelling, Sound Cancellation\n",
    "print('canceling : ',raw_text.count('canceling') )\n",
    "print('cancelling : ',raw_text.count('cancelling') )\n",
    "print('cancelation : ',raw_text.count('cancelation') )\n",
    "print('cancellation : ',raw_text.count('cancellation') )\n",
    "\n",
    "resolve_heterogeneity(review_list, ['canceling','cancelling','cancellation','cancelation'])       \n",
    "raw_text = ''.join(review_list)     \n",
    "    \n",
    "print('canceling : ',raw_text.count('canceling') )\n",
    "print('cancelling : ',raw_text.count('cancelling') )\n",
    "print('cancelation : ',raw_text.count('cancelation') )\n",
    "print('cancellation : ',raw_text.count('cancellation') )\n",
    " "
   ]
  },
  {
   "cell_type": "code",
   "execution_count": 540,
   "metadata": {},
   "outputs": [],
   "source": [
    "# audio, sound\n",
    "forced_resolve_heterogeneity(review_list, ['audio'], 'sound')\n",
    "forced_resolve_heterogeneity(review_list, ['bud '], 'buds ')\n",
    "#noise cancelation, isolation\n",
    "resolve_heterogeneity(review_list, ['canceling','cancelling','cancellation','cancelation'])\n",
    "forced_resolve_heterogeneity(review_list, ['outside noise'], 'noise isolation')\n",
    "forced_resolve_heterogeneity(review_list, ['background noise'], 'noise cancelling')\n",
    "resolve_heterogeneity(review_list, ['isolating','isolation']) \n",
    "resolve_heterogeneity(review_list, ['sound cancelling','noise cancelling']) \n",
    "resolve_heterogeneity(review_list, ['sound isolation','noise isolation']) \n",
    "#dissimilarity\n",
    "resolve_heterogeneity(review_list, ['ear','side'])    \n",
    "resolve_heterogeneity(review_list, ['left','right'])  \n",
    "\n",
    "resolve_heterogeneity(review_list, ['ear phones','ear cups']) \n",
    "\n",
    "forced_resolve_heterogeneity(review_list, ['bluetooth'], 'blue tooth')\n",
    "\n",
    "#volume control\n",
    "forced_resolve_heterogeneity(review_list, ['ear monitors'], 'volume control')\n",
    "\n",
    "# sound quality, quality sound\n",
    "resolve_heterogeneity(review_list, ['sound quality','quality sound']) \n",
    "# ear piece, ear pieces\n",
    "resolve_heterogeneity(review_list, ['ear piece ','ear pieces ']) \n",
    "\n",
    "raw_text = ' '.join(review_list)   "
   ]
  },
  {
   "cell_type": "code",
   "execution_count": 541,
   "metadata": {},
   "outputs": [],
   "source": [
    "bigrams = get_bigram_likelihood(raw_text.lower(), freq_filter=100, nbest=200 )\n",
    "bigram_joint = [' '.join(list(s[0])) for s in bigrams]"
   ]
  },
  {
   "cell_type": "code",
   "execution_count": 542,
   "metadata": {},
   "outputs": [],
   "source": [
    "selected_collocations_with_type = []\n",
    "for collocation in bigram_joint:\n",
    "\n",
    "    selected_data = [select_sentence(review.lower(), collocation) for review in review_list if collocation in review]\n",
    "\n",
    "    \n",
    "    g = gen(0)\n",
    "    while True:\n",
    "        index = next(g)\n",
    "        if index >= len(selected_data):\n",
    "            break\n",
    "        review = selected_data[index]\n",
    "        doc= nlp(review)\n",
    "        check = check_collocation_type(doc, collocation)\n",
    "        if check != False:\n",
    "            if  'DET' in check[1]:\n",
    "                break\n",
    "            if  'NUM' in check[1]:\n",
    "                break\n",
    "            if check[1][1] == 'ADJ':\n",
    "                break\n",
    "            if check[1][0] == 'ADJ' and check[1][1] == 'ADV':\n",
    "                break\n",
    "\n",
    "            if check[1][0] == 'ADV' and check[1][1] == 'ADV':\n",
    "                break\n",
    "            if check[1][1] == 'ADP':\n",
    "                break\n",
    "            if check[1][0] == 'ADV' and check[1][1] == 'VERB':\n",
    "                break\n",
    "            if check[1][0] == 'ADJ' and check[1][1] == 'VERB':\n",
    "                break\n",
    "            if check[1][0] == 'VERB' and check[1][1] == 'ADV':\n",
    "                break\n",
    "            if check[1][0] == 'VERB' and check[1][1] == 'NOUN':\n",
    "                break\n",
    "            if check[1][0] == 'VERB' and check[1][1] == 'VERB':\n",
    "                break\n",
    "            if check[0][1] == 'headphones':\n",
    "                break\n",
    "            if check[0][1] == 'product':\n",
    "                break\n",
    "            if check[0][0] in ['good','great','amazing','old','first','nice','better','headphones',\n",
    "                               'long', 'little', 'high', 'low', 'mid','build','price','comfortable',\n",
    "                              'price','light','second','best','new','reasonable']:\n",
    "                break\n",
    "            if check[0][1] in ['loves','phone','time','phones','calls','lasts']:\n",
    "                break            \n",
    "\n",
    "            selected_collocations_with_type.append(check)\n",
    "\n",
    "            full_data_doc = [(token, token.ent_type_, token.pos_, token.lemma_) for token in doc]\n",
    "            break\n",
    "        else:   \n",
    "            continue\n",
    "\n",
    "\n"
   ]
  },
  {
   "cell_type": "code",
   "execution_count": 543,
   "metadata": {},
   "outputs": [
    {
     "name": "stdout",
     "output_type": "stream",
     "text": [
      "('ADJ', 'NOUN')  : \n",
      " [('sound', 'quality'), ('blue', 'tooth'), ('sound', 'isolation'), ('right', 'ear')]\n",
      "\n",
      "\n",
      "('NOUN', 'VERB')  : \n",
      " [('noise', 'cancelling')]\n",
      "\n",
      "\n",
      "('NOUN', 'NOUN')  : \n",
      " [('battery', 'life'), ('customer', 'service'), ('ear', 'buds'), ('volume', 'control'), ('ear', 'piece'), ('foam', 'tips'), ('ear', 'canals'), ('bass', 'response'), ('ear', 'pads')]\n",
      "\n",
      "\n"
     ]
    }
   ],
   "source": [
    "collocation_type_dict = {}\n",
    "for collocation in selected_collocations_with_type:\n",
    "    if collocation[1] not in collocation_type_dict:\n",
    "        collocation_type_dict.update({collocation[1]:[]})\n",
    "    \n",
    "    collocation_type_dict[collocation[1]].append(collocation[0])\n",
    "    \n",
    "for c in collocation_type_dict:\n",
    "    print(c,\" : \\n\", collocation_type_dict[c])\n",
    "    print('\\n')\n",
    "\n",
    "\n"
   ]
  },
  {
   "cell_type": "code",
   "execution_count": 544,
   "metadata": {},
   "outputs": [
    {
     "name": "stdout",
     "output_type": "stream",
     "text": [
      "(('sound', 'quality'), 29502.413908705355)\n",
      "(('blue', 'tooth'), 19494.658156993413)\n",
      "(('noise', 'cancelling'), 15986.28371654512)\n",
      "(('battery', 'life'), 12391.405685645614)\n",
      "(('sound', 'isolation'), 6851.52159745071)\n",
      "(('customer', 'service'), 6456.122734180677)\n",
      "(('ear', 'buds'), 6185.199635358439)\n",
      "(('volume', 'control'), 3957.698711668156)\n",
      "(('ear', 'piece'), 3108.227528672651)\n",
      "(('right', 'ear'), 2711.9201712862614)\n",
      "(('foam', 'tips'), 1909.6677996151975)\n",
      "(('bass', 'response'), 1324.4531045399042)\n",
      "(('ear', 'pads'), 1066.3508750326123)\n"
     ]
    }
   ],
   "source": [
    "selected_collocations = [x[0] for x in selected_collocations_with_type]\n",
    "bigrams_updated = [x for x in bigrams if x[0] in selected_collocations]\n",
    "for b in bigrams_updated:\n",
    "    print(b)\n"
   ]
  },
  {
   "cell_type": "code",
   "execution_count": 545,
   "metadata": {},
   "outputs": [
    {
     "name": "stdout",
     "output_type": "stream",
     "text": [
      "['sound quality', 'blue tooth', 'noise cancelling', 'battery life', 'sound isolation', 'customer service', 'ear buds', 'volume control', 'ear piece', 'right ear', 'foam tips', 'ear canals', 'bass response', 'ear pads']\n"
     ]
    }
   ],
   "source": [
    "selected_collocations_joint = [' '.join(bigram) for bigram in selected_collocations]\n",
    "print(selected_collocations_joint)"
   ]
  },
  {
   "cell_type": "code",
   "execution_count": 546,
   "metadata": {},
   "outputs": [
    {
     "data": {
      "text/plain": [
       "[('sound', 'quality'),\n",
       " ('blue', 'tooth'),\n",
       " ('noise', 'cancelling'),\n",
       " ('battery', 'life'),\n",
       " ('sound', 'isolation'),\n",
       " ('customer', 'service'),\n",
       " ('ear', 'buds'),\n",
       " ('volume', 'control'),\n",
       " ('ear', 'piece'),\n",
       " ('right', 'ear'),\n",
       " ('foam', 'tips'),\n",
       " ('ear', 'canals'),\n",
       " ('bass', 'response'),\n",
       " ('ear', 'pads')]"
      ]
     },
     "execution_count": 546,
     "metadata": {},
     "output_type": "execute_result"
    }
   ],
   "source": [
    "\"\"\"\n",
    "Second Step: Sentiment Analysis\n",
    "\"\"\"\n",
    "\"\"\"\n",
    "second pair\n",
    "background noise\n",
    "new pair\n",
    "\"\"\"\n",
    "selected_collocations"
   ]
  },
  {
   "cell_type": "code",
   "execution_count": 547,
   "metadata": {
    "collapsed": true
   },
   "outputs": [],
   "source": [
    "def filter_reviews(review, bigram):\n",
    "    if bigram in review:\n",
    "        return True\n",
    "    else:\n",
    "        return False\n",
    "def review_sentiment(string):\n",
    "    sent = analyser.polarity_scores(string)\n",
    "    return sent\n",
    "\n"
   ]
  },
  {
   "cell_type": "code",
   "execution_count": 548,
   "metadata": {},
   "outputs": [
    {
     "data": {
      "text/plain": [
       "'Sounds impeccable. Bowers and Wilkins P  Wireless sound pretty much the same. My regrets with AKG are     short battery life and    they arrived broken. One earpiece was making a contant noise that was not natural. I had to fiddle with the earpiece to fix it  after which they sounded perfect   but after some time  a day or so  the noise would occur again. Perfect sound  however  if they don t arrive broken.'"
      ]
     },
     "execution_count": 548,
     "metadata": {},
     "output_type": "execute_result"
    }
   ],
   "source": [
    "review_list[5]"
   ]
  },
  {
   "cell_type": "code",
   "execution_count": 671,
   "metadata": {},
   "outputs": [
    {
     "name": "stdout",
     "output_type": "stream",
     "text": [
      "17230\n",
      "Brand :  Panasonic\n",
      "Bad Features:\n",
      "('customer service', 0.5779432294090274)\n",
      "('right ear', 0.6790182973594829)\n",
      "('blue tooth', 0.700626959247649)\n",
      "('sound isolation', 0.70205858481517)\n",
      "('noise cancelling', 0.7482678114173822)\n",
      "('bass response', 0.7508176548686893)\n",
      "Good Features:\n",
      "('ear piece', 0.7643213974194865)\n",
      "('foam tips', 0.7664877300613496)\n",
      "('ear pads', 0.7780635400907716)\n",
      "('sound quality', 0.7833458732612909)\n",
      "('ear buds', 0.7870576182934909)\n",
      "('battery life', 0.8300865800865801)\n",
      "\n",
      "\n",
      "360\n",
      "Brand :  Akg\n",
      "Bad Features:\n",
      "('customer service', 0.5485436893203883)\n",
      "('right ear', 0.6242038216560509)\n",
      "('sound isolation', 0.6396989651928504)\n",
      "('bass response', 0.6486261448792673)\n",
      "('noise cancelling', 0.6954787234042553)\n",
      "('sound quality', 0.7434268011756295)\n",
      "Good Features:\n",
      "('sound quality', 0.7434268011756295)\n",
      "('ear canals', 0.7466367713004485)\n",
      "('volume control', 0.7814113597246127)\n",
      "('ear piece', 0.8272471910112359)\n",
      "('ear pads', 0.83203125)\n",
      "('ear buds', 0.8553011780395644)\n",
      "\n",
      "\n",
      "1058\n",
      "Brand :  BoseAudio\n",
      "Bad Features:\n",
      "('customer service', 0.5485436893203883)\n",
      "('right ear', 0.6219640971488912)\n",
      "('sound isolation', 0.6396989651928504)\n",
      "('bass response', 0.6537753222836096)\n",
      "('noise cancelling', 0.7219876583306268)\n",
      "('ear pads', 0.7360515021459227)\n",
      "Good Features:\n",
      "('ear pads', 0.7360515021459227)\n",
      "('ear piece', 0.7830045523520486)\n",
      "('sound quality', 0.7889883239544858)\n",
      "('ear canals', 0.7956493078444298)\n",
      "('ear buds', 0.7987196384861609)\n",
      "('volume control', 0.8184357541899442)\n",
      "\n",
      "\n",
      "20031\n",
      "Brand :  Otium\n",
      "Bad Features:\n",
      "('customer service', 0.5779432294090274)\n",
      "('right ear', 0.6790182973594829)\n",
      "('blue tooth', 0.700626959247649)\n",
      "('sound isolation', 0.70205858481517)\n",
      "('noise cancelling', 0.7482678114173822)\n",
      "('bass response', 0.7508176548686893)\n",
      "Good Features:\n",
      "('ear piece', 0.7643213974194865)\n",
      "('foam tips', 0.7664877300613496)\n",
      "('ear pads', 0.7780635400907716)\n",
      "('sound quality', 0.7833458732612909)\n",
      "('ear buds', 0.7870576182934909)\n",
      "('battery life', 0.8300865800865801)\n",
      "\n",
      "\n",
      "4274\n",
      "Brand :  Ailhen\n",
      "Bad Features:\n",
      "('customer service', 0.4387031408308005)\n",
      "('blue tooth', 0.6491557223264541)\n",
      "('right ear', 0.6751214247166757)\n",
      "('sound isolation', 0.725059181602976)\n",
      "('foam tips', 0.7300771208226222)\n",
      "('noise cancelling', 0.7430858229653697)\n",
      "Good Features:\n",
      "('ear canals', 0.7627256464465767)\n",
      "('ear piece', 0.7852005843353186)\n",
      "('volume control', 0.8107232441471572)\n",
      "('sound quality', 0.8124763661114762)\n",
      "('ear buds', 0.8130874303466639)\n",
      "('battery life', 0.8662551440329218)\n",
      "\n",
      "\n",
      "7748\n",
      "Brand :  Sennheiser\n",
      "Bad Features:\n",
      "('customer service', 0.4720321931589538)\n",
      "('right ear', 0.685077774848405)\n",
      "('blue tooth', 0.6939010356731875)\n",
      "('sound isolation', 0.705041384499624)\n",
      "('noise cancelling', 0.7297778129200602)\n",
      "('bass response', 0.7427266338721012)\n",
      "Good Features:\n",
      "('volume control', 0.7694341320733491)\n",
      "('ear pads', 0.7806259736581221)\n",
      "('sound quality', 0.7844127084288292)\n",
      "('ear buds', 0.7908561105554306)\n",
      "('foam tips', 0.7995654535578489)\n",
      "('battery life', 0.8002915451895044)\n",
      "\n",
      "\n",
      "5193\n",
      "Brand :  Shure\n",
      "Bad Features:\n",
      "('customer service', 0.48722316865417387)\n",
      "('right ear', 0.6644100580270793)\n",
      "('sound isolation', 0.720813679245283)\n",
      "('bass response', 0.734980694980695)\n",
      "('noise cancelling', 0.7382569128456423)\n",
      "('blue tooth', 0.7457627118644068)\n",
      "Good Features:\n",
      "('foam tips', 0.7877428998505231)\n",
      "('ear piece', 0.7910641453466816)\n",
      "('volume control', 0.8017110774440781)\n",
      "('sound quality', 0.8047076130930488)\n",
      "('ear buds', 0.8100526828623803)\n",
      "('battery life', 0.8662551440329218)\n",
      "\n",
      "\n",
      "5670\n",
      "Brand :  Sony\n",
      "Bad Features:\n",
      "('customer service', 0.45099484156226977)\n",
      "('right ear', 0.6521568934471151)\n",
      "('bass response', 0.7056633873969688)\n",
      "('sound isolation', 0.720813679245283)\n",
      "('noise cancelling', 0.7282567171781485)\n",
      "('blue tooth', 0.7457627118644068)\n",
      "Good Features:\n",
      "('foam tips', 0.7877428998505231)\n",
      "('ear piece', 0.7931335830212235)\n",
      "('volume control', 0.8052993459667953)\n",
      "('sound quality', 0.8066209013304834)\n",
      "('ear buds', 0.8104925134621356)\n",
      "('battery life', 0.8662551440329218)\n",
      "\n",
      "\n"
     ]
    }
   ],
   "source": [
    "BrandsList = ['Panasonic', 'Akg', 'BoseAudio', 'Otium', 'Ailhen', 'Sennheiser', 'Shure', 'Sony']\n",
    "\n",
    "Final_result = {}\n",
    "Final_dict = {}\n",
    "for Brand in BrandsList:\n",
    "    Temp_list = []\n",
    "    Temp_dict = {}\n",
    "    brand_df = pd.read_csv('{}_headphones.csv'.format(Brand))\n",
    "    print(len(brand_df.index))\n",
    "    brand_df = brand_df.rename(index=str, columns={\"Unnamed: 0\": \"ID\"})\n",
    "    brand_df['Reviews'] = bdf['Reviews'].apply(lambda x : cleaned_reviews(str(x)))\n",
    "    brand_reviews = brand_df['Reviews'].tolist()\n",
    "    brand_reviews = [str(x) for x in brand_reviews]\n",
    "    brand_raw_text = ' '.join(brand_reviews)\n",
    "    brand_bigrams =get_bigram_likelihood(brand_raw_text, freq_filter=3, nbest=200 )\n",
    "    \n",
    "    for bigram in selected_collocations_joint:\n",
    "        Filtered_list = [select_sentence(review, bigram) for review in brand_reviews if filter_reviews(review, bigram)]\n",
    "\n",
    "        if len(Filtered_list) > 0:\n",
    "            df = pd.DataFrame({\"Reviews\":Filtered_list})\n",
    "            df['Sentiments'] = df['Reviews'].apply(lambda x: review_sentiment(x))\n",
    "            df = pd.concat([df.drop(['Sentiments'], axis=1), df['Sentiments'].apply(pd.Series)], axis=1)\n",
    "            negativity = df['neg'].sum()\n",
    "            #print(negativity)\n",
    "            positivity = df['pos'].sum()\n",
    "            Temp_list.append((bigram,positivity/(positivity+negativity)))\n",
    "            Temp_dict.update({bigram:positivity/(positivity+negativity)})\n",
    "        else:\n",
    "            Temp_dict.update({bigram:-1})\n",
    "            \n",
    "    Final_result.update({Brand: sorted(Temp_list, key = lambda x:x[1])}) \n",
    "    Final_dict.update({Brand: Temp_dict})    \n",
    "    print(\"Brand : \", Brand)\n",
    "    print(\"Bad Features:\")\n",
    "    for b in Final_result[Brand][:6]:\n",
    "        print(b)\n",
    "    print(\"Good Features:\")\n",
    "    for b in Final_result[Brand][-6:]:\n",
    "        print(b)\n",
    "    print('\\n')\n",
    "\n",
    "    \n",
    "\n"
   ]
  },
  {
   "cell_type": "code",
   "execution_count": 672,
   "metadata": {},
   "outputs": [],
   "source": [
    "Final_table = np.array([[Final_dict[Brand][collocation] for collocation in \n",
    "                         selected_collocations_joint] for Brand in BrandsList])\n",
    "numOfBrands = len(Final_table)\n",
    "numOfCollocations = len(Final_table[0])\n"
   ]
  },
  {
   "cell_type": "code",
   "execution_count": 673,
   "metadata": {
    "collapsed": true
   },
   "outputs": [],
   "source": [
    "def regularize(myTable):\n",
    "    n = len(myTable)\n",
    "    m = len(myTable[0])\n",
    "    min_table = min([min(myTable[j]) for j in range(n)])\n",
    "    max_table = max([max(myTable[j]) for j in range(n)])\n",
    "    return [[(myTable[j][i]-min_table)/(max_table - min_table)  for i in range(m) ] \n",
    "               for j in range(n)]\n"
   ]
  },
  {
   "cell_type": "code",
   "execution_count": 674,
   "metadata": {},
   "outputs": [],
   "source": [
    "\"\"\"\n",
    "We have 3 missed data for Bose and AKG brands: Bluetooth, Battery life, Foam tips\n",
    "\"\"\"\n",
    "Final_table = [[Final_table[j][i] if Final_table[j][i]>-1 \n",
    "                else np.mean([Final_table[k][i] for k in range(numOfBrands) if Final_table[k][i]>-1])\n",
    "                             for i in range(numOfCollocations) ] \n",
    "               for j in range(numOfBrands)]\n",
    "\n",
    "Final_table = np.array(regularize(Final_table))\n",
    "#"
   ]
  },
  {
   "cell_type": "code",
   "execution_count": 675,
   "metadata": {},
   "outputs": [
    {
     "data": {
      "text/plain": [
       "array([0.32566819, 0.2569057 , 0.2569057 , 0.32566819, 0.        ,\n",
       "       0.07795321, 0.11348334, 0.02874902])"
      ]
     },
     "execution_count": 675,
     "metadata": {},
     "output_type": "execute_result"
    }
   ],
   "source": [
    "Final_table[:,5]"
   ]
  },
  {
   "cell_type": "code",
   "execution_count": 676,
   "metadata": {},
   "outputs": [
    {
     "name": "stdout",
     "output_type": "stream",
     "text": [
      "{'Panasonic': {'sound quality': 0.7833458732612909, 'blue tooth': 0.700626959247649, 'noise cancelling': 0.7482678114173822, 'battery life': 0.8300865800865801, 'sound isolation': 0.70205858481517, 'customer service': 0.5779432294090274, 'ear buds': 0.7870576182934909, 'volume control': 0.7585554965480616, 'ear piece': 0.7643213974194865, 'right ear': 0.6790182973594829, 'foam tips': 0.7664877300613496, 'ear canals': 0.7519793181450962, 'bass response': 0.7508176548686893, 'ear pads': 0.7780635400907716}, 'Akg': {'sound quality': 0.7434268011756295, 'blue tooth': -1, 'noise cancelling': 0.6954787234042553, 'battery life': -1, 'sound isolation': 0.6396989651928504, 'customer service': 0.5485436893203883, 'ear buds': 0.8553011780395644, 'volume control': 0.7814113597246127, 'ear piece': 0.8272471910112359, 'right ear': 0.6242038216560509, 'foam tips': -1, 'ear canals': 0.7466367713004485, 'bass response': 0.6486261448792673, 'ear pads': 0.83203125}, 'BoseAudio': {'sound quality': 0.7889883239544858, 'blue tooth': -1, 'noise cancelling': 0.7219876583306268, 'battery life': -1, 'sound isolation': 0.6396989651928504, 'customer service': 0.5485436893203883, 'ear buds': 0.7987196384861609, 'volume control': 0.8184357541899442, 'ear piece': 0.7830045523520486, 'right ear': 0.6219640971488912, 'foam tips': -1, 'ear canals': 0.7956493078444298, 'bass response': 0.6537753222836096, 'ear pads': 0.7360515021459227}, 'Otium': {'sound quality': 0.7833458732612909, 'blue tooth': 0.700626959247649, 'noise cancelling': 0.7482678114173822, 'battery life': 0.8300865800865801, 'sound isolation': 0.70205858481517, 'customer service': 0.5779432294090274, 'ear buds': 0.7870576182934909, 'volume control': 0.7585554965480616, 'ear piece': 0.7643213974194865, 'right ear': 0.6790182973594829, 'foam tips': 0.7664877300613496, 'ear canals': 0.7519793181450962, 'bass response': 0.7508176548686893, 'ear pads': 0.7780635400907716}, 'Ailhen': {'sound quality': 0.8124763661114762, 'blue tooth': 0.6491557223264541, 'noise cancelling': 0.7430858229653697, 'battery life': 0.8662551440329218, 'sound isolation': 0.725059181602976, 'customer service': 0.4387031408308005, 'ear buds': 0.8130874303466639, 'volume control': 0.8107232441471572, 'ear piece': 0.7852005843353186, 'right ear': 0.6751214247166757, 'foam tips': 0.7300771208226222, 'ear canals': 0.7627256464465767, 'bass response': 0.749286733238231, 'ear pads': 0.754698318496538}, 'Sennheiser': {'sound quality': 0.7844127084288292, 'blue tooth': 0.6939010356731875, 'noise cancelling': 0.7297778129200602, 'battery life': 0.8002915451895044, 'sound isolation': 0.705041384499624, 'customer service': 0.4720321931589538, 'ear buds': 0.7908561105554306, 'volume control': 0.7694341320733491, 'ear piece': 0.768025966665808, 'right ear': 0.685077774848405, 'foam tips': 0.7995654535578489, 'ear canals': 0.7517363475418765, 'bass response': 0.7427266338721012, 'ear pads': 0.7806259736581221}, 'Shure': {'sound quality': 0.8047076130930488, 'blue tooth': 0.7457627118644068, 'noise cancelling': 0.7382569128456423, 'battery life': 0.8662551440329218, 'sound isolation': 0.720813679245283, 'customer service': 0.48722316865417387, 'ear buds': 0.8100526828623803, 'volume control': 0.8017110774440781, 'ear piece': 0.7910641453466816, 'right ear': 0.6644100580270793, 'foam tips': 0.7877428998505231, 'ear canals': 0.7528940974703444, 'bass response': 0.734980694980695, 'ear pads': 0.7598635103433568}, 'Sony': {'sound quality': 0.8066209013304834, 'blue tooth': 0.7457627118644068, 'noise cancelling': 0.7282567171781485, 'battery life': 0.8662551440329218, 'sound isolation': 0.720813679245283, 'customer service': 0.45099484156226977, 'ear buds': 0.8104925134621356, 'volume control': 0.8052993459667953, 'ear piece': 0.7931335830212235, 'right ear': 0.6521568934471151, 'foam tips': 0.7877428998505231, 'ear canals': 0.7537847508945774, 'bass response': 0.7056633873969688, 'ear pads': 0.7598635103433568}}\n"
     ]
    }
   ],
   "source": [
    "len(Final_dict)\n",
    "print(Final_dict)"
   ]
  },
  {
   "cell_type": "code",
   "execution_count": 695,
   "metadata": {},
   "outputs": [
    {
     "name": "stderr",
     "output_type": "stream",
     "text": [
      "/anaconda/lib/python3.6/site-packages/matplotlib/artist.py:233: MatplotlibDeprecationWarning: get_axes has been deprecated in mpl 1.5, please use the\n",
      "axes property.  A removal date has not been set.\n",
      "  stacklevel=1)\n"
     ]
    },
    {
     "data": {
      "image/png": "[encoded data removed]",
      "text/plain": [
       "<matplotlib.figure.Figure at 0x11ce86b70>"
      ]
     },
     "metadata": {},
     "output_type": "display_data"
    }
   ],
   "source": [
    "import numpy as np\n",
    "import matplotlib.pyplot as plt\n",
    "\n",
    "\n",
    "def show_values(pc, fmt=\"%.2f\", **kw):\n",
    "    '''\n",
    "    Heatmap with text in each cell with matplotlib's pyplot\n",
    "    Source: http://stackoverflow.com/a/25074150/395857 \n",
    "    By HYRY\n",
    "    '''\n",
    "    pc.update_scalarmappable()\n",
    "    ax = pc.get_axes()\n",
    "    for p, color, value in zip(pc.get_paths(), pc.get_facecolors(), pc.get_array()):\n",
    "        x, y = p.vertices[:-2, :].mean(0)\n",
    "        if np.all(color[:3] > 0.5):\n",
    "            color = (0.0, 0.0, 0.0)\n",
    "        else:\n",
    "            color = (1.0, 1.0, 1.0)\n",
    "        ax.text(x, y, fmt % value, ha=\"center\", va=\"center\", color=color, **kw)\n",
    "\n",
    "def cm2inch(*tupl):\n",
    "    '''\n",
    "    Specify figure size in centimeter in matplotlib\n",
    "    Source: http://stackoverflow.com/a/22787457/395857\n",
    "    By gns-ank\n",
    "    '''\n",
    "    inch = 2.54\n",
    "    if type(tupl[0]) == tuple:\n",
    "        return tuple(i/inch for i in tupl[0])\n",
    "    else:\n",
    "        return tuple(i/inch for i in tupl)\n",
    "\n",
    "def heatmap(AUC, title, xlabel, ylabel, xticklabels, yticklabels):\n",
    "    '''\n",
    "    Inspired by:\n",
    "    - http://stackoverflow.com/a/16124677/395857 \n",
    "    - http://stackoverflow.com/a/25074150/395857\n",
    "    '''\n",
    "\n",
    "    # Plot it out\n",
    "    fig, ax = plt.subplots()    \n",
    "    c = ax.pcolor(AUC, edgecolors='k', linestyle= 'dashed', linewidths=0.2, cmap='RdBu', vmin=0.0, vmax=1.0)\n",
    "\n",
    "\n",
    "    # put the major ticks at the middle of each cell\n",
    "    ax.set_yticks(np.arange(AUC.shape[0]) + 0.5, minor=False)\n",
    "    ax.set_xticks(np.arange(AUC.shape[1]) +0.5 , minor=False)\n",
    "\n",
    "\n",
    "    #ax.set_xticks(np.arange(AUC.shape[1]) + 0.5, minor=False)\n",
    "    # set tick labels\n",
    "    #ax.set_xticklabels(np.arange(1,AUC.shape[1]+1), minor=False)\n",
    "    ax.set_xticklabels(xticklabels, minor=False)\n",
    "    ax.set_yticklabels(yticklabels, minor=False)\n",
    "\n",
    "\n",
    "    # set title and x/y labels\n",
    "    plt.title(title)\n",
    "    plt.xlabel(xlabel)\n",
    "    plt.ylabel(ylabel)      \n",
    "\n",
    "    # Remove last blank column\n",
    "    plt.xlim( (0, AUC.shape[1]) )\n",
    "\n",
    "    # Turn off all the ticks\n",
    "    ax = plt.gca()    \n",
    "    for t in ax.xaxis.get_major_ticks():\n",
    "        t.tick1On = False\n",
    "        t.tick2On = False\n",
    "    for t in ax.yaxis.get_major_ticks():\n",
    "        t.tick1On = False\n",
    "        t.tick2On = False\n",
    "\n",
    "    # Add color bar\n",
    "    cbar = plt.colorbar(c)  \n",
    "    cbar.update_ticks()    \n",
    "    \n",
    "    cbar.set_label(\"Satisfaction\",size=20)\n",
    "    cbar.ax.tick_params(labelsize=16)\n",
    "    cbar.ax.yaxis.get_offset_text().set(size=20)\n",
    "\n",
    "    # Add text in each cell \n",
    "    show_values(c)\n",
    "\n",
    "    # resize \n",
    "    fig = plt.gcf()\n",
    "    fig.set_size_inches(cm2inch(40, 20))\n",
    "\n",
    "\n",
    "\n",
    "\n",
    "\n",
    "x_axis_size = len(Final_table)\n",
    "y_axis_size = len(Final_table[0])\n",
    "title = \"Review Table\"\n",
    "\n",
    "data = np.array(Final_table)\n",
    "#data =  np.random.rand(y_axis_size,x_axis_size)\n",
    "#xticklabels = range(1, x_axis_size+1) # could be text\n",
    "#yticklabels = range(1, y_axis_size+1) # could be text \n",
    "\n",
    "xticklabels = selected_collocations_joint\n",
    "yticklabels = BrandsList\n",
    "\n",
    "\n",
    "xlabel, ylabel =\" \", \" \"\n",
    "heatmap(data, title, xlabel, ylabel, xticklabels, yticklabels)\n",
    "\n",
    "\n",
    "plt.xticks(fontsize=16)\n",
    "plt.yticks(fontsize=16)\n",
    "plt.xticks(rotation='vertical')\n",
    "plt.title(\"Brand-Feature Evaluation Table\",weight='bold', size=20)\n",
    "plt.xlabel(\"Features\",weight='bold', size=20)\n",
    "plt.ylabel(\"Brands\",weight='bold', size=20)\n",
    "plt.savefig('image_output.png', dpi=300, format='png', bbox_inches='tight') # use format='svg' or 'pdf' for vectorial pictures\n",
    "plt.show()\n",
    "\n",
    "\n",
    "\n"
   ]
  },
  {
   "cell_type": "code",
   "execution_count": 699,
   "metadata": {},
   "outputs": [
    {
     "name": "stdout",
     "output_type": "stream",
     "text": [
      "48039\n",
      "{'sound quality': 0.8066209013304834, 'blue tooth': 0.7457627118644068, 'noise cancelling': 0.7282567171781485, 'battery life': 0.8662551440329218, 'sound isolation': 0.720813679245283, 'customer service': 0.45099484156226977, 'ear buds': 0.8104925134621356, 'volume control': 0.8052993459667953, 'ear piece': 0.7931335830212235, 'right ear': 0.6521568934471151, 'foam tips': 0.7877428998505231, 'ear canals': 0.7537847508945774, 'bass response': 0.7056633873969688, 'ear pads': 0.7598635103433568}\n",
      "['customer service', 'right ear', 'bass response', 'sound isolation', 'noise cancelling', 'blue tooth', 'ear canals', 'ear pads', 'foam tips', 'ear piece', 'volume control', 'sound quality', 'ear buds', 'battery life']\n"
     ]
    }
   ],
   "source": [
    "\n",
    "Overall_dict = {}\n",
    "\n",
    "Temp_list = []\n",
    "Temp_dict = {}\n",
    "df = pd.read_csv('All_Data.txt', encoding='utf-8')\n",
    "print(len(df.index))\n",
    "df = brand_df.rename(index=str, columns={\"Unnamed: 0\": \"ID\"})\n",
    "df['Reviews'] = bdf['Reviews'].apply(lambda x : cleaned_reviews(str(x)))\n",
    "reviews = brand_df['Reviews'].tolist()\n",
    "reviews = [str(x) for x in brand_reviews]\n",
    "raw_text = ' '.join(brand_reviews)\n",
    "bigrams =get_bigram_likelihood(brand_raw_text, freq_filter=3, nbest=200 )\n",
    "\n",
    "for bigram in selected_collocations_joint:\n",
    "    Filtered_list = [select_sentence(review, bigram) for review in brand_reviews if filter_reviews(review, bigram)]\n",
    "\n",
    "    if len(Filtered_list) > 0:\n",
    "        df2 = pd.DataFrame({\"Reviews\":Filtered_list})\n",
    "        df2['Sentiments'] = df2['Reviews'].apply(lambda x: review_sentiment(x))\n",
    "        df2 = pd.concat([df2.drop(['Sentiments'], axis=1), df2['Sentiments'].apply(pd.Series)], axis=1)\n",
    "        negativity = df2['neg'].sum()\n",
    "        #print(negativity)\n",
    "        positivity = df2['pos'].sum()\n",
    "        Overall_dict.update({bigram:positivity/(positivity+negativity)})\n",
    "    else:\n",
    "        Overall_dict.update({bigram:-1})\n",
    "\n",
    "#Final_result.update({Brand: sorted(Temp_list, key = lambda x:x[1])})   \n",
    "print(Overall_dict)\n",
    "features = sorted(Overall_dict.keys(), key = lambda x:Overall_dict[x])\n",
    "satisfaction = sorted(Overall_dict.values(), key = lambda x:x)\n",
    "print(features)\n",
    "\n",
    "    \n",
    "\n",
    "\n"
   ]
  },
  {
   "cell_type": "code",
   "execution_count": 706,
   "metadata": {
    "collapsed": true
   },
   "outputs": [],
   "source": [
    "satisfaction = sorted(Overall_dict.values(), key = lambda x:x)"
   ]
  },
  {
   "cell_type": "code",
   "execution_count": 739,
   "metadata": {
    "collapsed": true
   },
   "outputs": [],
   "source": [
    "def curvify(x, myList):\n",
    "    minimum = min(myList)\n",
    "    maximum = max(myList)\n",
    "    y = (x-minimum)/(maximum-minimum)\n",
    "    return 1-y**2"
   ]
  },
  {
   "cell_type": "code",
   "execution_count": 749,
   "metadata": {},
   "outputs": [
    {
     "data": {
      "image/png": "[encoded data removed]",
      "text/plain": [
       "<matplotlib.figure.Figure at 0x128de1780>"
      ]
     },
     "metadata": {},
     "output_type": "display_data"
    }
   ],
   "source": [
    "for i,s in zip(range(14), satisfaction):\n",
    "    plt.bar(i, s*100, color=cm(curvify(s, satisfaction)), edgecolor='black',linewidth=1.0)\n",
    "#plt.bar(range(14), satisfaction,align='center',cm(c))\n",
    "x_pos = np.arange(len(satisfaction)) \n",
    "plt.xticks(x_pos, features, rotation='vertical') \n",
    "plt.ylim(40, 90) \n",
    "\n",
    "plt.xticks(fontsize=16)\n",
    "plt.yticks(fontsize=16)\n",
    "\n",
    "plt.ylabel(\"Satisfaction (%)\",weight='bold', size=20)\n",
    "plt.savefig('features_hist.png', dpi=300, format='png', bbox_inches='tight')\n",
    "plt.show()\n"
   ]
  },
  {
   "cell_type": "code",
   "execution_count": 758,
   "metadata": {},
   "outputs": [],
   "source": [
    "Final_table = np.array([[Final_dict[Brand][collocation] for collocation in \n",
    "                         selected_collocations_joint] for Brand in BrandsList])\n",
    "\n",
    "Final_table = [[Final_table[j][i] if Final_table[j][i]>-1 \n",
    "                else np.mean([Final_table[k][i] for k in range(numOfBrands) if Final_table[k][i]>-1])\n",
    "                             for i in range(numOfCollocations) ] \n",
    "               for j in range(numOfBrands)]\n",
    "\n",
    "\n",
    "Final_brand_dict = {selected_collocations_joint[i]: {BrandsList[j]:Final_table[j][i]\n",
    "                  for j in range(numOfBrands) }  for i in range(numOfCollocations)}"
   ]
  },
  {
   "cell_type": "code",
   "execution_count": 780,
   "metadata": {},
   "outputs": [],
   "source": [
    "Final_brand_dict\n",
    "Final_brand_sorted = { collocation: sorted(list(Final_brand_dict[collocation].keys()), \n",
    "                                           key = lambda x:Final_brand_dict[collocation][x]) \n",
    "                     for collocation in selected_collocations_joint} "
   ]
  },
  {
   "cell_type": "code",
   "execution_count": 802,
   "metadata": {},
   "outputs": [],
   "source": [
    "Final_brand_worst = { collocation: Final_brand_sorted[collocation][:2] \n",
    "                     for collocation in selected_collocations_joint}\n",
    "Final_brand_best= { collocation: Final_brand_sorted[collocation][-2:] \n",
    "                     for collocation in selected_collocations_joint}"
   ]
  },
  {
   "cell_type": "code",
   "execution_count": 803,
   "metadata": {},
   "outputs": [
    {
     "data": {
      "text/plain": [
       "{'bass response': ['Akg', 'BoseAudio'],\n",
       " 'battery life': ['Sennheiser', 'Panasonic'],\n",
       " 'blue tooth': ['Ailhen', 'Sennheiser'],\n",
       " 'customer service': ['Ailhen', 'Sony'],\n",
       " 'ear buds': ['Panasonic', 'Otium'],\n",
       " 'ear canals': ['Akg', 'Sennheiser'],\n",
       " 'ear pads': ['BoseAudio', 'Ailhen'],\n",
       " 'ear piece': ['Panasonic', 'Otium'],\n",
       " 'foam tips': ['Ailhen', 'Panasonic'],\n",
       " 'noise cancelling': ['Akg', 'BoseAudio'],\n",
       " 'right ear': ['BoseAudio', 'Akg'],\n",
       " 'sound isolation': ['Akg', 'BoseAudio'],\n",
       " 'sound quality': ['Akg', 'Panasonic'],\n",
       " 'volume control': ['Panasonic', 'Otium']}"
      ]
     },
     "execution_count": 803,
     "metadata": {},
     "output_type": "execute_result"
    }
   ],
   "source": [
    "Final_brand_worst"
   ]
  },
  {
   "cell_type": "code",
   "execution_count": 804,
   "metadata": {},
   "outputs": [
    {
     "data": {
      "text/plain": [
       "{'bass response': ['Panasonic', 'Otium'],\n",
       " 'battery life': ['Shure', 'Sony'],\n",
       " 'blue tooth': ['Shure', 'Sony'],\n",
       " 'customer service': ['Panasonic', 'Otium'],\n",
       " 'ear buds': ['Ailhen', 'Akg'],\n",
       " 'ear canals': ['Ailhen', 'BoseAudio'],\n",
       " 'ear pads': ['Sennheiser', 'Akg'],\n",
       " 'ear piece': ['Sony', 'Akg'],\n",
       " 'foam tips': ['Sony', 'Sennheiser'],\n",
       " 'noise cancelling': ['Panasonic', 'Otium'],\n",
       " 'right ear': ['Otium', 'Sennheiser'],\n",
       " 'sound isolation': ['Sony', 'Ailhen'],\n",
       " 'sound quality': ['Sony', 'Ailhen'],\n",
       " 'volume control': ['Ailhen', 'BoseAudio']}"
      ]
     },
     "execution_count": 804,
     "metadata": {},
     "output_type": "execute_result"
    }
   ],
   "source": [
    "Final_brand_best"
   ]
  },
  {
   "cell_type": "code",
   "execution_count": 805,
   "metadata": {},
   "outputs": [
    {
     "data": {
      "text/plain": [
       "{'bass response': ['Akg',\n",
       "  'BoseAudio',\n",
       "  'Sony',\n",
       "  'Shure',\n",
       "  'Sennheiser',\n",
       "  'Ailhen',\n",
       "  'Panasonic',\n",
       "  'Otium'],\n",
       " 'battery life': ['Sennheiser',\n",
       "  'Panasonic',\n",
       "  'Otium',\n",
       "  'Akg',\n",
       "  'BoseAudio',\n",
       "  'Ailhen',\n",
       "  'Shure',\n",
       "  'Sony'],\n",
       " 'blue tooth': ['Ailhen',\n",
       "  'Sennheiser',\n",
       "  'Panasonic',\n",
       "  'Otium',\n",
       "  'Akg',\n",
       "  'BoseAudio',\n",
       "  'Shure',\n",
       "  'Sony'],\n",
       " 'customer service': ['Ailhen',\n",
       "  'Sony',\n",
       "  'Sennheiser',\n",
       "  'Shure',\n",
       "  'Akg',\n",
       "  'BoseAudio',\n",
       "  'Panasonic',\n",
       "  'Otium'],\n",
       " 'ear buds': ['Panasonic',\n",
       "  'Otium',\n",
       "  'Sennheiser',\n",
       "  'BoseAudio',\n",
       "  'Shure',\n",
       "  'Sony',\n",
       "  'Ailhen',\n",
       "  'Akg'],\n",
       " 'ear canals': ['Akg',\n",
       "  'Sennheiser',\n",
       "  'Panasonic',\n",
       "  'Otium',\n",
       "  'Shure',\n",
       "  'Sony',\n",
       "  'Ailhen',\n",
       "  'BoseAudio'],\n",
       " 'ear pads': ['BoseAudio',\n",
       "  'Ailhen',\n",
       "  'Shure',\n",
       "  'Sony',\n",
       "  'Panasonic',\n",
       "  'Otium',\n",
       "  'Sennheiser',\n",
       "  'Akg'],\n",
       " 'ear piece': ['Panasonic',\n",
       "  'Otium',\n",
       "  'Sennheiser',\n",
       "  'BoseAudio',\n",
       "  'Ailhen',\n",
       "  'Shure',\n",
       "  'Sony',\n",
       "  'Akg'],\n",
       " 'foam tips': ['Ailhen',\n",
       "  'Panasonic',\n",
       "  'Otium',\n",
       "  'Akg',\n",
       "  'BoseAudio',\n",
       "  'Shure',\n",
       "  'Sony',\n",
       "  'Sennheiser'],\n",
       " 'noise cancelling': ['Akg',\n",
       "  'BoseAudio',\n",
       "  'Sony',\n",
       "  'Sennheiser',\n",
       "  'Shure',\n",
       "  'Ailhen',\n",
       "  'Panasonic',\n",
       "  'Otium'],\n",
       " 'right ear': ['BoseAudio',\n",
       "  'Akg',\n",
       "  'Sony',\n",
       "  'Shure',\n",
       "  'Ailhen',\n",
       "  'Panasonic',\n",
       "  'Otium',\n",
       "  'Sennheiser'],\n",
       " 'sound isolation': ['Akg',\n",
       "  'BoseAudio',\n",
       "  'Panasonic',\n",
       "  'Otium',\n",
       "  'Sennheiser',\n",
       "  'Shure',\n",
       "  'Sony',\n",
       "  'Ailhen'],\n",
       " 'sound quality': ['Akg',\n",
       "  'Panasonic',\n",
       "  'Otium',\n",
       "  'Sennheiser',\n",
       "  'BoseAudio',\n",
       "  'Shure',\n",
       "  'Sony',\n",
       "  'Ailhen'],\n",
       " 'volume control': ['Panasonic',\n",
       "  'Otium',\n",
       "  'Sennheiser',\n",
       "  'Akg',\n",
       "  'Shure',\n",
       "  'Sony',\n",
       "  'Ailhen',\n",
       "  'BoseAudio']}"
      ]
     },
     "execution_count": 805,
     "metadata": {},
     "output_type": "execute_result"
    }
   ],
   "source": [
    "Final_brand_sorted"
   ]
  },
  {
   "cell_type": "code",
   "execution_count": 806,
   "metadata": {},
   "outputs": [],
   "source": [
    "Final_brand_table = []\n",
    "for j in range(numOfBrands):\n",
    "    Final_brand_table.append([])\n",
    "    for i in range(numOfCollocations):\n",
    "        Final_brand_table[j].append(0.5)\n",
    "        if BrandsList[j] in Final_brand_best[selected_collocations_joint[i]]:\n",
    "            Final_brand_table[j][i] = 1\n",
    "        if BrandsList[j] in Final_brand_worst[selected_collocations_joint[i]]:\n",
    "            Final_brand_table[j][i] = 0\n",
    "        \n",
    "\n"
   ]
  },
  {
   "cell_type": "code",
   "execution_count": 807,
   "metadata": {},
   "outputs": [
    {
     "data": {
      "text/plain": [
       "[[0, 0.5, 1, 0, 0.5, 1, 0, 0, 0, 0.5, 0, 0.5, 1, 0.5],\n",
       " [0, 0.5, 0, 0.5, 0, 0.5, 1, 0.5, 1, 0, 0.5, 0, 0, 1],\n",
       " [0.5, 0.5, 0, 0.5, 0, 0.5, 0.5, 1, 0.5, 0, 0.5, 1, 0, 0],\n",
       " [0.5, 0.5, 1, 0.5, 0.5, 1, 0, 0, 0, 1, 0.5, 0.5, 1, 0.5],\n",
       " [1, 0, 0.5, 0.5, 1, 0, 1, 1, 0.5, 0.5, 0, 1, 0.5, 0],\n",
       " [0.5, 0, 0.5, 0, 0.5, 0.5, 0.5, 0.5, 0.5, 1, 1, 0, 0.5, 1],\n",
       " [0.5, 1, 0.5, 1, 0.5, 0.5, 0.5, 0.5, 0.5, 0.5, 0.5, 0.5, 0.5, 0.5],\n",
       " [1, 1, 0.5, 1, 1, 0, 0.5, 0.5, 1, 0.5, 1, 0.5, 0.5, 0.5]]"
      ]
     },
     "execution_count": 807,
     "metadata": {},
     "output_type": "execute_result"
    }
   ],
   "source": [
    "Final_brand_table "
   ]
  },
  {
   "cell_type": "code",
   "execution_count": 810,
   "metadata": {},
   "outputs": [
    {
     "data": {
      "image/png": "[encoded data removed]",
      "text/plain": [
       "<matplotlib.figure.Figure at 0x116b2fdd8>"
      ]
     },
     "metadata": {},
     "output_type": "display_data"
    }
   ],
   "source": [
    "def show_values(pc, fmt=\"%.2f\", **kw):\n",
    "    '''\n",
    "    Heatmap with text in each cell with matplotlib's pyplot\n",
    "    Source: http://stackoverflow.com/a/25074150/395857 \n",
    "    By HYRY\n",
    "    '''\n",
    "    pc.update_scalarmappable()\n",
    "    ax = pc.get_axes()\n",
    "    for p, color, value in zip(pc.get_paths(), pc.get_facecolors(), pc.get_array()):\n",
    "        x, y = p.vertices[:-2, :].mean(0)\n",
    "        if np.all(color[:3] > 0.5):\n",
    "            color = (0.0, 0.0, 0.0)\n",
    "        else:\n",
    "            color = (1.0, 1.0, 1.0)\n",
    "        ax.text(x, y, fmt % value, ha=\"center\", va=\"center\", color=color, **kw)\n",
    "\n",
    "def cm2inch(*tupl):\n",
    "    '''\n",
    "    Specify figure size in centimeter in matplotlib\n",
    "    Source: http://stackoverflow.com/a/22787457/395857\n",
    "    By gns-ank\n",
    "    '''\n",
    "    inch = 2.54\n",
    "    if type(tupl[0]) == tuple:\n",
    "        return tuple(i/inch for i in tupl[0])\n",
    "    else:\n",
    "        return tuple(i/inch for i in tupl)\n",
    "\n",
    "def heatmap(AUC, title, xlabel, ylabel, xticklabels, yticklabels):\n",
    "    '''\n",
    "    Inspired by:\n",
    "    - http://stackoverflow.com/a/16124677/395857 \n",
    "    - http://stackoverflow.com/a/25074150/395857\n",
    "    '''\n",
    "\n",
    "    # Plot it out\n",
    "    fig, ax = plt.subplots()    \n",
    "    c = ax.pcolor(AUC, edgecolors='k', linestyle= 'dashed', linewidths=0.2, cmap='RdBu', vmin=0.0, vmax=1.0)\n",
    "\n",
    "\n",
    "    # put the major ticks at the middle of each cell\n",
    "    ax.set_yticks(np.arange(AUC.shape[0]) + 0.5, minor=False)\n",
    "    ax.set_xticks(np.arange(AUC.shape[1]) +0.5 , minor=False)\n",
    "\n",
    "\n",
    "    #ax.set_xticks(np.arange(AUC.shape[1]) + 0.5, minor=False)\n",
    "    # set tick labels\n",
    "    #ax.set_xticklabels(np.arange(1,AUC.shape[1]+1), minor=False)\n",
    "    ax.set_xticklabels(xticklabels, minor=False)\n",
    "    ax.set_yticklabels(yticklabels, minor=False)\n",
    "\n",
    "\n",
    "    # set title and x/y labels\n",
    "    plt.title(title)\n",
    "    plt.xlabel(xlabel)\n",
    "    plt.ylabel(ylabel)      \n",
    "\n",
    "    # Remove last blank column\n",
    "    plt.xlim( (0, AUC.shape[1]) )\n",
    "\n",
    "    # Turn off all the ticks\n",
    "    ax = plt.gca()    \n",
    "    for t in ax.xaxis.get_major_ticks():\n",
    "        t.tick1On = False\n",
    "        t.tick2On = False\n",
    "    for t in ax.yaxis.get_major_ticks():\n",
    "        t.tick1On = False\n",
    "        t.tick2On = False\n",
    "\n",
    "    # Add color bar\n",
    "    #cbar = plt.colorbar(c)  \n",
    "    #cbar.update_ticks()    \n",
    "    \n",
    "    #cbar.set_label(\"Satisfaction\",size=20)\n",
    "    #cbar.ax.tick_params(labelsize=16)\n",
    "    #cbar.ax.yaxis.get_offset_text().set(size=20)\n",
    "\n",
    "    # Add text in each cell \n",
    "    #show_values(c)\n",
    "\n",
    "    # resize \n",
    "    fig = plt.gcf()\n",
    "    fig.set_size_inches(cm2inch(40, 20))\n",
    "\n",
    "\n",
    "\n",
    "\n",
    "\n",
    "x_axis_size = len(Final_table)\n",
    "y_axis_size = len(Final_table[0])\n",
    "title = \"Review Table\"\n",
    "\n",
    "data = np.array(Final_brand_table )\n",
    "#data =  np.random.rand(y_axis_size,x_axis_size)\n",
    "#xticklabels = range(1, x_axis_size+1) # could be text\n",
    "#yticklabels = range(1, y_axis_size+1) # could be text \n",
    "\n",
    "xticklabels = selected_collocations_joint\n",
    "yticklabels = BrandsList\n",
    "\n",
    "\n",
    "xlabel, ylabel =\" \", \" \"\n",
    "heatmap(data, title, xlabel, ylabel, xticklabels, yticklabels)\n",
    "\n",
    "\n",
    "plt.xticks(fontsize=16)\n",
    "plt.yticks(fontsize=16)\n",
    "plt.xticks(rotation='vertical')\n",
    "plt.title(\"Worst-Best Brands-Features\",weight='bold', size=20)\n",
    "plt.xlabel(\"Features\",weight='bold', size=20)\n",
    "plt.ylabel(\"Brands\",weight='bold', size=20)\n",
    "plt.savefig('image_output2.png', dpi=300, format='png', bbox_inches='tight') # use format='svg' or 'pdf' for vectorial pictures\n",
    "plt.show()\n",
    "\n",
    "\n",
    "\n"
   ]
  }
 ],
 "metadata": {
  "kernelspec": {
   "display_name": "Python 3",
   "language": "python",
   "name": "python3"
  },
  "language_info": {
   "codemirror_mode": {
    "name": "ipython",
    "version": 3
   },
   "file_extension": ".py",
   "mimetype": "text/x-python",
   "name": "python",
   "nbconvert_exporter": "python",
   "pygments_lexer": "ipython3",
   "version": "3.6.1"
  }
 },
 "nbformat": 4,
 "nbformat_minor": 2
}
